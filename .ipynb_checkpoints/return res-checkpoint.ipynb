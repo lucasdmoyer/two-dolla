{
 "cells": [
  {
   "cell_type": "code",
   "execution_count": 1,
   "metadata": {},
   "outputs": [
    {
     "name": "stderr",
     "output_type": "stream",
     "text": [
      "Importing plotly failed. Interactive plots will not work.\n"
     ]
    }
   ],
   "source": [
    "from fastapi import FastAPI, File, UploadFile\n",
    "from fastapi.encoders import jsonable_encoder\n",
    "from fastapi.responses import JSONResponse\n",
    "from fastapi.middleware.cors import CORSMiddleware\n",
    "from starlette.middleware.cors import CORSMiddleware\n",
    "import json\n",
    "from yahoofinancials import YahooFinancials as YF\n",
    "import time\n",
    "import pandas as pd\n",
    "from pandas_datareader import data\n",
    "import os\n",
    "import pickle \n",
    "from tqdm import tqdm\n",
    "import scipy.stats as sp\n",
    "from utils import *\n",
    "from backtester import *\n"
   ]
  },
  {
   "cell_type": "code",
   "execution_count": null,
   "metadata": {},
   "outputs": [],
   "source": [
    "tickers = ['GOOG', 'MMM', 'AMD']\n",
    "initial_captial = 100\n",
    "ticker = 'GOOG'\n",
    "with open(\"./stocks.pkl\", \"rb\") as pkl_handle:\n",
    "        bars = pickle.load(pkl_handle)\n",
    "#tickers = [ticker]\n",
    "bars = {key: bars[key] for key in tickers}\n",
    "bars = addReturns(bars)\n",
    "strategy = [\n",
    "    # {\n",
    "    #     'name':'MACDStrat',\n",
    "    #     'params':{\n",
    "    #         'long': 26,\n",
    "    #         'short': 12\n",
    "    #     }\n",
    "    # },\n",
    "    {\n",
    "        'name': 'single',\n",
    "        'params': {\n",
    "            'ticker': ticker\n",
    "        }\n",
    "    }\n",
    "]\n",
    "rfs = RandomStrategy(tickers, bars, strategy)\n",
    "signals = rfs.genSignals()\n",
    "portfolio = MyPortfolio(tickers, bars, signals, initial_captial)\n",
    "returns = portfolio.backtest_portfolio()\n",
    "#returns = returns.dropna().to_dict(orient='records')"
   ]
  },
  {
   "cell_type": "code",
   "execution_count": null,
   "metadata": {},
   "outputs": [],
   "source": [
    "signals.head(50)"
   ]
  },
  {
   "cell_type": "code",
   "execution_count": null,
   "metadata": {},
   "outputs": [],
   "source": [
    "numstocks = len(tickers)\n",
    "weights = getRandomWeights(numstocks)\n",
    "print(weights)\n",
    "#bars[bars.keys()]\n",
    "list(bars.keys())\n",
    "signals = pd.DataFrame(index=bars[next(iter(bars))].index)\n",
    "for i in range(0,len(list(bars.keys()))):\n",
    "    print(i)\n",
    "    symbol = list(bars.keys())[i]\n",
    "    print(list(bars.keys())[i])\n",
    "    signals[symbol] = weights[i]\n",
    "signals"
   ]
  },
  {
   "cell_type": "code",
   "execution_count": null,
   "metadata": {},
   "outputs": [],
   "source": [
    "# Markowitz portfolios\n",
    "# MSR: Max Sharpe Ratio and GMV Gloval Minimum Volatility Portfolios\n",
    "port_returns = getPortReturns(bars)\n",
    "risk_free= 0\n",
    "markov_n = 100\n",
    "numstocks = len(tickers)\n",
    "df = pd.DataFrame(columns=[\"id\",\"return\",\"volatility\"])\n",
    "for x in range(0,markov_n):\n",
    "    \n",
    "    \n",
    "    \n",
    "    \n",
    "    \n",
    "    volatility = getPortWeightedVol(port_returns, weights)\n",
    "    ann_ret = getPortWeightedAnnualReturn(port_returns,weights)\n",
    "    row = {\n",
    "        \"id\":x,\n",
    "        \"return\":ann_ret,\n",
    "        \"volatility\":volatility,\n",
    "        \"weights\":weights\n",
    "    }\n",
    "    df = df.append(row,ignore_index=True)\n",
    "df.head()"
   ]
  },
  {
   "cell_type": "code",
   "execution_count": null,
   "metadata": {},
   "outputs": [],
   "source": [
    "df[\"sharpe\"] = (df[\"return\"] - risk_free) / df[\"volatility\"]\n",
    "MSR = df.sort_values(by=[\"sharpe\"], ascending=False)\n",
    "MSR_weights = MSR.iloc[0,0:numstocks]['weights']\n",
    "\n",
    "GMV = df.sort_values(by=[\"volatility\"],ascending=True)\n",
    "GMV_weights = GMV.iloc[0,0:numstocks]\n",
    "#print(MSR_weights)\n",
    "#print(MSR.iloc[0,0:numstocks])\n",
    "#getPortWeightedAnnualReturn(port_returns,MSR_weights)\n",
    "print(GMV_weights)"
   ]
  },
  {
   "cell_type": "code",
   "execution_count": null,
   "metadata": {},
   "outputs": [],
   "source": [
    "result={}\n",
    "for stock in list(bars):\n",
    "    bars[stock] = bars[stock].rename(columns={\n",
    "                \"ds\":\"Date\",\n",
    "                'y':'Close'\n",
    "                })\n",
    "    bars[stock] = bars[stock].drop(['Date'], axis=1)\n",
    "    print(bars[stock].columns)\n",
    "    \n",
    "    bars[stock]['Date'] = bars[stock].index.strftime('%Y-%m-%d')\n",
    "    #result[stock] = bars[stock].to_dict(orient='records')\n",
    "    result[stock] = bars[stock].to_dict(orient='records')\n",
    "json_compatible_item_data = jsonable_encoder(result)"
   ]
  },
  {
   "cell_type": "code",
   "execution_count": null,
   "metadata": {},
   "outputs": [],
   "source": [
    "json_compatible_item_data['GOOG'][0]['Close']"
   ]
  },
  {
   "cell_type": "code",
   "execution_count": 3,
   "metadata": {},
   "outputs": [],
   "source": [
    "class Weights(BaseModel):\n",
    "    weights:  List[float] = []\n",
    "    def __init__(self, _weights):\n",
    "        self.weights = _weights\n",
    "\n",
    "    \n",
    "\n",
    "weights_data = {\n",
    "    weights = new Weights()\n",
    "}\n",
    "tickers = ['GOOG', 'MMM', 'AMD']\n",
    "initial_captial = 100"
   ]
  },
  {
   "cell_type": "code",
   "execution_count": 4,
   "metadata": {},
   "outputs": [
    {
     "name": "stdout",
     "output_type": "stream",
     "text": [
      "HERE\n"
     ]
    },
    {
     "ename": "AttributeError",
     "evalue": "'dict' object has no attribute 'weights'",
     "output_type": "error",
     "traceback": [
      "\u001b[1;31m---------------------------------------------------------------------------\u001b[0m",
      "\u001b[1;31mAttributeError\u001b[0m                            Traceback (most recent call last)",
      "\u001b[1;32m<ipython-input-4-daa0be21057d>\u001b[0m in \u001b[0;36m<module>\u001b[1;34m()\u001b[0m\n\u001b[0;32m     13\u001b[0m \u001b[1;33m\u001b[0m\u001b[0m\n\u001b[0;32m     14\u001b[0m \u001b[0mrfs\u001b[0m \u001b[1;33m=\u001b[0m \u001b[0mRandomStrategy\u001b[0m\u001b[1;33m(\u001b[0m\u001b[0mtickers\u001b[0m\u001b[1;33m,\u001b[0m \u001b[0mbars\u001b[0m\u001b[1;33m,\u001b[0m \u001b[0mstrategy\u001b[0m\u001b[1;33m)\u001b[0m\u001b[1;33m\u001b[0m\u001b[1;33m\u001b[0m\u001b[0m\n\u001b[1;32m---> 15\u001b[1;33m \u001b[0msignals\u001b[0m \u001b[1;33m=\u001b[0m \u001b[0mrfs\u001b[0m\u001b[1;33m.\u001b[0m\u001b[0mgenSignals\u001b[0m\u001b[1;33m(\u001b[0m\u001b[1;33m)\u001b[0m\u001b[1;33m\u001b[0m\u001b[1;33m\u001b[0m\u001b[0m\n\u001b[0m\u001b[0;32m     16\u001b[0m \u001b[0msignals\u001b[0m\u001b[1;33m\u001b[0m\u001b[1;33m\u001b[0m\u001b[0m\n",
      "\u001b[1;32mC:\\Users\\moyer\\OneDrive\\development\\fin-dashboard\\app\\backtester.py\u001b[0m in \u001b[0;36mgenSignals\u001b[1;34m(self)\u001b[0m\n\u001b[0;32m     39\u001b[0m         \u001b[1;32mfor\u001b[0m \u001b[0mstrat\u001b[0m \u001b[1;32min\u001b[0m \u001b[0mself\u001b[0m\u001b[1;33m.\u001b[0m\u001b[0mstrategy\u001b[0m\u001b[1;33m:\u001b[0m\u001b[1;33m\u001b[0m\u001b[1;33m\u001b[0m\u001b[0m\n\u001b[0;32m     40\u001b[0m             \u001b[0mprint\u001b[0m\u001b[1;33m(\u001b[0m\u001b[1;34m\"HERE\"\u001b[0m\u001b[1;33m)\u001b[0m\u001b[1;33m\u001b[0m\u001b[1;33m\u001b[0m\u001b[0m\n\u001b[1;32m---> 41\u001b[1;33m             \u001b[0mprint\u001b[0m\u001b[1;33m(\u001b[0m\u001b[0mstrat\u001b[0m\u001b[1;33m[\u001b[0m\u001b[1;34m'params'\u001b[0m\u001b[1;33m]\u001b[0m\u001b[1;33m.\u001b[0m\u001b[0mweights\u001b[0m\u001b[1;33m)\u001b[0m\u001b[1;33m\u001b[0m\u001b[1;33m\u001b[0m\u001b[0m\n\u001b[0m\u001b[0;32m     42\u001b[0m             \u001b[1;32mif\u001b[0m \u001b[1;33m(\u001b[0m\u001b[0mstrat\u001b[0m\u001b[1;33m[\u001b[0m\u001b[1;34m'name'\u001b[0m\u001b[1;33m]\u001b[0m \u001b[1;33m==\u001b[0m \u001b[1;34m'MACDStrat'\u001b[0m\u001b[1;33m)\u001b[0m\u001b[1;33m:\u001b[0m\u001b[1;33m\u001b[0m\u001b[1;33m\u001b[0m\u001b[0m\n\u001b[0;32m     43\u001b[0m                 \u001b[0mprint\u001b[0m\u001b[1;33m(\u001b[0m\u001b[1;34m'MACDStrat'\u001b[0m\u001b[1;33m)\u001b[0m\u001b[1;33m\u001b[0m\u001b[1;33m\u001b[0m\u001b[0m\n",
      "\u001b[1;31mAttributeError\u001b[0m: 'dict' object has no attribute 'weights'"
     ]
    }
   ],
   "source": [
    "from utils import *\n",
    "\n",
    "\n",
    "strategy = [\n",
    "    {\n",
    "        'name': 'weighted',\n",
    "        'params': weights_data\n",
    "    }\n",
    "]\n",
    "with open(\"./stocks.pkl\", \"rb\") as pkl_handle:\n",
    "    bars = pickle.load(pkl_handle)\n",
    "#tickers = [ticker]\n",
    "bars = {key: bars[key] for key in tickers}\n",
    "bars = addReturns(bars)\n",
    "\n",
    "rfs = RandomStrategy(tickers, bars, strategy)\n",
    "signals = rfs.genSignals()\n",
    "signals"
   ]
  },
  {
   "cell_type": "code",
   "execution_count": null,
   "metadata": {},
   "outputs": [],
   "source": [
    "portfolio = MyPortfolio(tickers, bars, signals, initial_captial)\n",
    "returns = portfolio.backtest_portfolio()"
   ]
  },
  {
   "cell_type": "code",
   "execution_count": null,
   "metadata": {},
   "outputs": [],
   "source": [
    "returns.tail(50)"
   ]
  },
  {
   "cell_type": "code",
   "execution_count": null,
   "metadata": {},
   "outputs": [],
   "source": [
    "forecast = portfolio.forecast_portfolio()\n"
   ]
  },
  {
   "cell_type": "code",
   "execution_count": null,
   "metadata": {},
   "outputs": [],
   "source": [
    "forecast.tail()"
   ]
  },
  {
   "cell_type": "code",
   "execution_count": null,
   "metadata": {},
   "outputs": [],
   "source": [
    "forecast = addReturns(forecast)\n",
    "forecast['GOOG']"
   ]
  },
  {
   "cell_type": "code",
   "execution_count": null,
   "metadata": {},
   "outputs": [],
   "source": [
    "forecast['GOOG']['Close'].tail()"
   ]
  },
  {
   "cell_type": "code",
   "execution_count": null,
   "metadata": {},
   "outputs": [],
   "source": [
    "forecast['GOOG'].columns"
   ]
  },
  {
   "cell_type": "code",
   "execution_count": null,
   "metadata": {},
   "outputs": [],
   "source": []
  }
 ],
 "metadata": {
  "kernelspec": {
   "display_name": "Python (quant)",
   "language": "python",
   "name": "myenv"
  },
  "language_info": {
   "codemirror_mode": {
    "name": "ipython",
    "version": 3
   },
   "file_extension": ".py",
   "mimetype": "text/x-python",
   "name": "python",
   "nbconvert_exporter": "python",
   "pygments_lexer": "ipython3",
   "version": "3.7.9"
  }
 },
 "nbformat": 4,
 "nbformat_minor": 4
}
