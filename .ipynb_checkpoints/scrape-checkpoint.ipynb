{
 "cells": [
  {
   "cell_type": "code",
   "execution_count": 1,
   "metadata": {},
   "outputs": [
    {
     "name": "stderr",
     "output_type": "stream",
     "text": [
      "\n",
      "Bad key savefig.frameon in file C:\\Users\\moyer\\anaconda3\\envs\\quant\\lib\\site-packages\\matplotlib\\mpl-data\\stylelib\\_classic_test.mplstyle, line 421 ('savefig.frameon : True')\n",
      "You probably need to get an updated matplotlibrc file from\n",
      "https://github.com/matplotlib/matplotlib/blob/v3.4.2/matplotlibrc.template\n",
      "or from the matplotlib source distribution\n",
      "\n",
      "Bad key verbose.level in file C:\\Users\\moyer\\anaconda3\\envs\\quant\\lib\\site-packages\\matplotlib\\mpl-data\\stylelib\\_classic_test.mplstyle, line 472 ('verbose.level  : silent      # one of silent, helpful, debug, debug-annoying')\n",
      "You probably need to get an updated matplotlibrc file from\n",
      "https://github.com/matplotlib/matplotlib/blob/v3.4.2/matplotlibrc.template\n",
      "or from the matplotlib source distribution\n",
      "\n",
      "Bad key verbose.fileo in file C:\\Users\\moyer\\anaconda3\\envs\\quant\\lib\\site-packages\\matplotlib\\mpl-data\\stylelib\\_classic_test.mplstyle, line 473 ('verbose.fileo  : sys.stdout  # a log filename, sys.stdout or sys.stderr')\n",
      "You probably need to get an updated matplotlibrc file from\n",
      "https://github.com/matplotlib/matplotlib/blob/v3.4.2/matplotlibrc.template\n",
      "or from the matplotlib source distribution\n",
      "In C:\\Users\\moyer\\anaconda3\\envs\\quant\\lib\\site-packages\\matplotlib\\mpl-data\\stylelib\\_classic_test.mplstyle: \n",
      "The text.latex.preview rcparam was deprecated in Matplotlib 3.3 and will be removed two minor releases later.\n",
      "In C:\\Users\\moyer\\anaconda3\\envs\\quant\\lib\\site-packages\\matplotlib\\mpl-data\\stylelib\\_classic_test.mplstyle: \n",
      "The mathtext.fallback_to_cm rcparam was deprecated in Matplotlib 3.3 and will be removed two minor releases later.\n",
      "In C:\\Users\\moyer\\anaconda3\\envs\\quant\\lib\\site-packages\\matplotlib\\mpl-data\\stylelib\\_classic_test.mplstyle: Support for setting the 'mathtext.fallback_to_cm' rcParam is deprecated since 3.3 and will be removed two minor releases later; use 'mathtext.fallback : 'cm' instead.\n",
      "In C:\\Users\\moyer\\anaconda3\\envs\\quant\\lib\\site-packages\\matplotlib\\mpl-data\\stylelib\\_classic_test.mplstyle: \n",
      "The validate_bool_maybe_none function was deprecated in Matplotlib 3.3 and will be removed two minor releases later.\n",
      "In C:\\Users\\moyer\\anaconda3\\envs\\quant\\lib\\site-packages\\matplotlib\\mpl-data\\stylelib\\_classic_test.mplstyle: \n",
      "The savefig.jpeg_quality rcparam was deprecated in Matplotlib 3.3 and will be removed two minor releases later.\n",
      "In C:\\Users\\moyer\\anaconda3\\envs\\quant\\lib\\site-packages\\matplotlib\\mpl-data\\stylelib\\_classic_test.mplstyle: \n",
      "The keymap.all_axes rcparam was deprecated in Matplotlib 3.3 and will be removed two minor releases later.\n",
      "In C:\\Users\\moyer\\anaconda3\\envs\\quant\\lib\\site-packages\\matplotlib\\mpl-data\\stylelib\\_classic_test.mplstyle: \n",
      "The animation.avconv_path rcparam was deprecated in Matplotlib 3.3 and will be removed two minor releases later.\n",
      "In C:\\Users\\moyer\\anaconda3\\envs\\quant\\lib\\site-packages\\matplotlib\\mpl-data\\stylelib\\_classic_test.mplstyle: \n",
      "The animation.avconv_args rcparam was deprecated in Matplotlib 3.3 and will be removed two minor releases later.\n"
     ]
    }
   ],
   "source": [
    "import requests\n",
    "from bs4 import BeautifulSoup\n",
    "import pandas as pd\n",
    "import pickle\n",
    "from pathlib import Path\n",
    "%matplotlib inline"
   ]
  },
  {
   "cell_type": "code",
   "execution_count": 2,
   "metadata": {},
   "outputs": [],
   "source": [
    "URL = \"https://www.ssa.gov/oact/STATS/table4c6.html\"\n",
    "page = requests.get(URL)\n",
    "\n",
    "soup = BeautifulSoup(page.content, \"html.parser\")"
   ]
  },
  {
   "cell_type": "code",
   "execution_count": 3,
   "metadata": {},
   "outputs": [
    {
     "ename": "NameError",
     "evalue": "name 'df' is not defined",
     "output_type": "error",
     "traceback": [
      "\u001b[1;31m---------------------------------------------------------------------------\u001b[0m",
      "\u001b[1;31mNameError\u001b[0m                                 Traceback (most recent call last)",
      "\u001b[1;32m<ipython-input-3-236d0dbf853e>\u001b[0m in \u001b[0;36m<module>\u001b[1;34m\u001b[0m\n\u001b[0;32m      5\u001b[0m     \u001b[1;32mif\u001b[0m \u001b[1;33m(\u001b[0m\u001b[0mlen\u001b[0m\u001b[1;33m(\u001b[0m\u001b[0mrow\u001b[0m\u001b[1;33m.\u001b[0m\u001b[0mfind_all\u001b[0m\u001b[1;33m(\u001b[0m\u001b[1;34m'td'\u001b[0m\u001b[1;33m)\u001b[0m\u001b[1;33m)\u001b[0m \u001b[1;33m==\u001b[0m \u001b[1;36m7\u001b[0m\u001b[1;33m)\u001b[0m\u001b[1;33m:\u001b[0m\u001b[1;33m\u001b[0m\u001b[1;33m\u001b[0m\u001b[0m\n\u001b[0;32m      6\u001b[0m         \u001b[0mage\u001b[0m\u001b[1;33m,\u001b[0m \u001b[0mm_d_p\u001b[0m\u001b[1;33m,\u001b[0m \u001b[0mm_nof\u001b[0m\u001b[1;33m,\u001b[0m \u001b[0mm_life_exp\u001b[0m\u001b[1;33m,\u001b[0m \u001b[0mf_d_p\u001b[0m\u001b[1;33m,\u001b[0m \u001b[0mf_nof\u001b[0m\u001b[1;33m,\u001b[0m \u001b[0mf_life_exp\u001b[0m \u001b[1;33m=\u001b[0m \u001b[0mrow\u001b[0m\u001b[1;33m.\u001b[0m\u001b[0mfind_all\u001b[0m\u001b[1;33m(\u001b[0m\u001b[1;34m'td'\u001b[0m\u001b[1;33m)\u001b[0m\u001b[1;33m\u001b[0m\u001b[1;33m\u001b[0m\u001b[0m\n\u001b[1;32m----> 7\u001b[1;33m         df = df.append({\n\u001b[0m\u001b[0;32m      8\u001b[0m             \u001b[1;34m\"age\"\u001b[0m\u001b[1;33m:\u001b[0m\u001b[0mage\u001b[0m\u001b[1;33m.\u001b[0m\u001b[0mtext\u001b[0m\u001b[1;33m,\u001b[0m\u001b[1;33m\u001b[0m\u001b[1;33m\u001b[0m\u001b[0m\n\u001b[0;32m      9\u001b[0m             \u001b[1;34m\"m_d_p\"\u001b[0m\u001b[1;33m:\u001b[0m\u001b[0mm_d_p\u001b[0m\u001b[1;33m.\u001b[0m\u001b[0mtext\u001b[0m\u001b[1;33m,\u001b[0m\u001b[1;33m\u001b[0m\u001b[1;33m\u001b[0m\u001b[0m\n",
      "\u001b[1;31mNameError\u001b[0m: name 'df' is not defined"
     ]
    }
   ],
   "source": [
    "table = soup.find_all(\"table\")[0]\n",
    "tbody = table.find('tbody')\n",
    "tr = tbody.find_all('tr')\n",
    "for row in tr:\n",
    "    if (len(row.find_all('td')) == 7):\n",
    "        age, m_d_p, m_nof, m_life_exp, f_d_p, f_nof, f_life_exp = row.find_all('td')\n",
    "        df = df.append({\n",
    "            \"age\":age.text,\n",
    "            \"m_d_p\":m_d_p.text,\n",
    "            \"m_nof\":m_nof.text,\n",
    "            \"m_life_exp\":m_life_exp.text,\n",
    "            \"f_d_p\":f_d_p.text,\n",
    "            \"f_nof\":f_nof.text,\n",
    "            \"f_life_exp\":f_life_exp.text\n",
    "        }, ignore_index=True)"
   ]
  },
  {
   "cell_type": "code",
   "execution_count": 4,
   "metadata": {},
   "outputs": [
    {
     "ename": "FileNotFoundError",
     "evalue": "[Errno 2] No such file or directory: 'Users\\\\moyer\\\\OneDrive\\\\development\\x0cin-dashboard\\\\curve.pkl'",
     "output_type": "error",
     "traceback": [
      "\u001b[1;31m---------------------------------------------------------------------------\u001b[0m",
      "\u001b[1;31mFileNotFoundError\u001b[0m                         Traceback (most recent call last)",
      "\u001b[1;32m<ipython-input-4-3be3868f98cf>\u001b[0m in \u001b[0;36m<module>\u001b[1;34m\u001b[0m\n\u001b[0;32m      1\u001b[0m \u001b[1;31m# df.head()\u001b[0m\u001b[1;33m\u001b[0m\u001b[1;33m\u001b[0m\u001b[1;33m\u001b[0m\u001b[0m\n\u001b[0;32m      2\u001b[0m \u001b[1;31m# df.to_pickle(\"Users\\moyer\\OneDrive\\development\\fin-dashboard\\curve.pkl\") # save\u001b[0m\u001b[1;33m\u001b[0m\u001b[1;33m\u001b[0m\u001b[1;33m\u001b[0m\u001b[0m\n\u001b[1;32m----> 3\u001b[1;33m \u001b[0mdf\u001b[0m \u001b[1;33m=\u001b[0m \u001b[0mpd\u001b[0m\u001b[1;33m.\u001b[0m\u001b[0mread_pickle\u001b[0m\u001b[1;33m(\u001b[0m\u001b[1;34m\"Users\\moyer\\OneDrive\\development\\fin-dashboard\\curve.pkl\"\u001b[0m\u001b[1;33m)\u001b[0m \u001b[1;31m# load\u001b[0m\u001b[1;33m\u001b[0m\u001b[1;33m\u001b[0m\u001b[0m\n\u001b[0m",
      "\u001b[1;32m~\\anaconda3\\envs\\quant\\lib\\site-packages\\pandas\\io\\pickle.py\u001b[0m in \u001b[0;36mread_pickle\u001b[1;34m(filepath_or_buffer, compression, storage_options)\u001b[0m\n\u001b[0;32m    188\u001b[0m         \u001b[0mcompression\u001b[0m\u001b[1;33m=\u001b[0m\u001b[0mcompression\u001b[0m\u001b[1;33m,\u001b[0m\u001b[1;33m\u001b[0m\u001b[1;33m\u001b[0m\u001b[0m\n\u001b[0;32m    189\u001b[0m         \u001b[0mis_text\u001b[0m\u001b[1;33m=\u001b[0m\u001b[1;32mFalse\u001b[0m\u001b[1;33m,\u001b[0m\u001b[1;33m\u001b[0m\u001b[1;33m\u001b[0m\u001b[0m\n\u001b[1;32m--> 190\u001b[1;33m         \u001b[0mstorage_options\u001b[0m\u001b[1;33m=\u001b[0m\u001b[0mstorage_options\u001b[0m\u001b[1;33m,\u001b[0m\u001b[1;33m\u001b[0m\u001b[1;33m\u001b[0m\u001b[0m\n\u001b[0m\u001b[0;32m    191\u001b[0m     ) as handles:\n\u001b[0;32m    192\u001b[0m \u001b[1;33m\u001b[0m\u001b[0m\n",
      "\u001b[1;32m~\\anaconda3\\envs\\quant\\lib\\site-packages\\pandas\\io\\common.py\u001b[0m in \u001b[0;36mget_handle\u001b[1;34m(path_or_buf, mode, encoding, compression, memory_map, is_text, errors, storage_options)\u001b[0m\n\u001b[0;32m    649\u001b[0m         \u001b[1;32melse\u001b[0m\u001b[1;33m:\u001b[0m\u001b[1;33m\u001b[0m\u001b[1;33m\u001b[0m\u001b[0m\n\u001b[0;32m    650\u001b[0m             \u001b[1;31m# Binary mode\u001b[0m\u001b[1;33m\u001b[0m\u001b[1;33m\u001b[0m\u001b[1;33m\u001b[0m\u001b[0m\n\u001b[1;32m--> 651\u001b[1;33m             \u001b[0mhandle\u001b[0m \u001b[1;33m=\u001b[0m \u001b[0mopen\u001b[0m\u001b[1;33m(\u001b[0m\u001b[0mhandle\u001b[0m\u001b[1;33m,\u001b[0m \u001b[0mioargs\u001b[0m\u001b[1;33m.\u001b[0m\u001b[0mmode\u001b[0m\u001b[1;33m)\u001b[0m\u001b[1;33m\u001b[0m\u001b[1;33m\u001b[0m\u001b[0m\n\u001b[0m\u001b[0;32m    652\u001b[0m         \u001b[0mhandles\u001b[0m\u001b[1;33m.\u001b[0m\u001b[0mappend\u001b[0m\u001b[1;33m(\u001b[0m\u001b[0mhandle\u001b[0m\u001b[1;33m)\u001b[0m\u001b[1;33m\u001b[0m\u001b[1;33m\u001b[0m\u001b[0m\n\u001b[0;32m    653\u001b[0m \u001b[1;33m\u001b[0m\u001b[0m\n",
      "\u001b[1;31mFileNotFoundError\u001b[0m: [Errno 2] No such file or directory: 'Users\\\\moyer\\\\OneDrive\\\\development\\x0cin-dashboard\\\\curve.pkl'"
     ]
    }
   ],
   "source": [
    "# df.head()\n",
    "# df.to_pickle(\"Users\\moyer\\OneDrive\\development\\fin-dashboard\\curve.pkl\") # save\n",
    "df = pd.read_pickle(\"Users\\moyer\\OneDrive\\development\\fin-dashboard\\curve.pkl\") # load"
   ]
  },
  {
   "cell_type": "code",
   "execution_count": 51,
   "metadata": {},
   "outputs": [
    {
     "data": {
      "text/html": [
       "<div>\n",
       "<style scoped>\n",
       "    .dataframe tbody tr th:only-of-type {\n",
       "        vertical-align: middle;\n",
       "    }\n",
       "\n",
       "    .dataframe tbody tr th {\n",
       "        vertical-align: top;\n",
       "    }\n",
       "\n",
       "    .dataframe thead th {\n",
       "        text-align: right;\n",
       "    }\n",
       "</style>\n",
       "<table border=\"1\" class=\"dataframe\">\n",
       "  <thead>\n",
       "    <tr style=\"text-align: right;\">\n",
       "      <th></th>\n",
       "      <th>age</th>\n",
       "      <th>m_d_p</th>\n",
       "      <th>m_nof</th>\n",
       "      <th>m_life_exp</th>\n",
       "      <th>f_d_p</th>\n",
       "      <th>f_nof</th>\n",
       "      <th>f_life_exp</th>\n",
       "    </tr>\n",
       "  </thead>\n",
       "  <tbody>\n",
       "    <tr>\n",
       "      <th>0</th>\n",
       "      <td>0</td>\n",
       "      <td>0.006081</td>\n",
       "      <td>100,000</td>\n",
       "      <td>76.23</td>\n",
       "      <td>0.005046</td>\n",
       "      <td>100,000</td>\n",
       "      <td>81.28</td>\n",
       "    </tr>\n",
       "    <tr>\n",
       "      <th>1</th>\n",
       "      <td>1</td>\n",
       "      <td>0.000425</td>\n",
       "      <td>99,392</td>\n",
       "      <td>75.69</td>\n",
       "      <td>0.000349</td>\n",
       "      <td>99,495</td>\n",
       "      <td>80.69</td>\n",
       "    </tr>\n",
       "    <tr>\n",
       "      <th>2</th>\n",
       "      <td>2</td>\n",
       "      <td>0.000260</td>\n",
       "      <td>99,350</td>\n",
       "      <td>74.73</td>\n",
       "      <td>0.000212</td>\n",
       "      <td>99,461</td>\n",
       "      <td>79.72</td>\n",
       "    </tr>\n",
       "    <tr>\n",
       "      <th>3</th>\n",
       "      <td>3</td>\n",
       "      <td>0.000194</td>\n",
       "      <td>99,324</td>\n",
       "      <td>73.75</td>\n",
       "      <td>0.000166</td>\n",
       "      <td>99,440</td>\n",
       "      <td>78.74</td>\n",
       "    </tr>\n",
       "    <tr>\n",
       "      <th>4</th>\n",
       "      <td>4</td>\n",
       "      <td>0.000154</td>\n",
       "      <td>99,305</td>\n",
       "      <td>72.76</td>\n",
       "      <td>0.000137</td>\n",
       "      <td>99,423</td>\n",
       "      <td>77.75</td>\n",
       "    </tr>\n",
       "  </tbody>\n",
       "</table>\n",
       "</div>"
      ],
      "text/plain": [
       "    age       m_d_p      m_nof m_life_exp       f_d_p      f_nof f_life_exp\n",
       "0     0    0.006081    100,000      76.23    0.005046    100,000      81.28\n",
       "1     1    0.000425     99,392      75.69    0.000349     99,495      80.69\n",
       "2     2    0.000260     99,350      74.73    0.000212     99,461      79.72\n",
       "3     3    0.000194     99,324      73.75    0.000166     99,440      78.74\n",
       "4     4    0.000154     99,305      72.76    0.000137     99,423      77.75"
      ]
     },
     "execution_count": 51,
     "metadata": {},
     "output_type": "execute_result"
    }
   ],
   "source": [
    "df.head()"
   ]
  },
  {
   "cell_type": "code",
   "execution_count": 42,
   "metadata": {},
   "outputs": [],
   "source": [
    "cols = ['age','m_d_p','m_nof','m_life_exp','f_d_p','f_nof','f_life_exp']\n",
    "df = pd.DataFrame(columns = cols)"
   ]
  },
  {
   "cell_type": "code",
   "execution_count": 64,
   "metadata": {},
   "outputs": [],
   "source": [
    "\n",
    "my_path = Path(\"C:/Users/moyer/OneDrive/development/fin-dashboard/curve.pkl\")\n",
    "with my_path.open('wb') as fp:\n",
    "    pickle.dump(df, fp)"
   ]
  },
  {
   "cell_type": "code",
   "execution_count": 5,
   "metadata": {},
   "outputs": [],
   "source": [
    "my_path = Path(\"C:/Users/moyer/OneDrive/development/fin-dashboard/curve.pkl\")\n",
    "with open(my_path, 'rb') as f:\n",
    "    x = pickle.load(f)"
   ]
  },
  {
   "cell_type": "code",
   "execution_count": 6,
   "metadata": {},
   "outputs": [
    {
     "data": {
      "text/html": [
       "<div>\n",
       "<style scoped>\n",
       "    .dataframe tbody tr th:only-of-type {\n",
       "        vertical-align: middle;\n",
       "    }\n",
       "\n",
       "    .dataframe tbody tr th {\n",
       "        vertical-align: top;\n",
       "    }\n",
       "\n",
       "    .dataframe thead th {\n",
       "        text-align: right;\n",
       "    }\n",
       "</style>\n",
       "<table border=\"1\" class=\"dataframe\">\n",
       "  <thead>\n",
       "    <tr style=\"text-align: right;\">\n",
       "      <th></th>\n",
       "      <th>age</th>\n",
       "      <th>m_d_p</th>\n",
       "      <th>m_nof</th>\n",
       "      <th>m_life_exp</th>\n",
       "      <th>f_d_p</th>\n",
       "      <th>f_nof</th>\n",
       "      <th>f_life_exp</th>\n",
       "    </tr>\n",
       "  </thead>\n",
       "  <tbody>\n",
       "    <tr>\n",
       "      <th>0</th>\n",
       "      <td>0</td>\n",
       "      <td>0.006081</td>\n",
       "      <td>100,000</td>\n",
       "      <td>76.23</td>\n",
       "      <td>0.005046</td>\n",
       "      <td>100,000</td>\n",
       "      <td>81.28</td>\n",
       "    </tr>\n",
       "    <tr>\n",
       "      <th>1</th>\n",
       "      <td>1</td>\n",
       "      <td>0.000425</td>\n",
       "      <td>99,392</td>\n",
       "      <td>75.69</td>\n",
       "      <td>0.000349</td>\n",
       "      <td>99,495</td>\n",
       "      <td>80.69</td>\n",
       "    </tr>\n",
       "    <tr>\n",
       "      <th>2</th>\n",
       "      <td>2</td>\n",
       "      <td>0.000260</td>\n",
       "      <td>99,350</td>\n",
       "      <td>74.73</td>\n",
       "      <td>0.000212</td>\n",
       "      <td>99,461</td>\n",
       "      <td>79.72</td>\n",
       "    </tr>\n",
       "    <tr>\n",
       "      <th>3</th>\n",
       "      <td>3</td>\n",
       "      <td>0.000194</td>\n",
       "      <td>99,324</td>\n",
       "      <td>73.75</td>\n",
       "      <td>0.000166</td>\n",
       "      <td>99,440</td>\n",
       "      <td>78.74</td>\n",
       "    </tr>\n",
       "    <tr>\n",
       "      <th>4</th>\n",
       "      <td>4</td>\n",
       "      <td>0.000154</td>\n",
       "      <td>99,305</td>\n",
       "      <td>72.76</td>\n",
       "      <td>0.000137</td>\n",
       "      <td>99,423</td>\n",
       "      <td>77.75</td>\n",
       "    </tr>\n",
       "    <tr>\n",
       "      <th>...</th>\n",
       "      <td>...</td>\n",
       "      <td>...</td>\n",
       "      <td>...</td>\n",
       "      <td>...</td>\n",
       "      <td>...</td>\n",
       "      <td>...</td>\n",
       "      <td>...</td>\n",
       "    </tr>\n",
       "    <tr>\n",
       "      <th>115</th>\n",
       "      <td>115</td>\n",
       "      <td>0.723259</td>\n",
       "      <td>0</td>\n",
       "      <td>0.86</td>\n",
       "      <td>0.717864</td>\n",
       "      <td>0</td>\n",
       "      <td>0.87</td>\n",
       "    </tr>\n",
       "    <tr>\n",
       "      <th>116</th>\n",
       "      <td>116</td>\n",
       "      <td>0.759422</td>\n",
       "      <td>0</td>\n",
       "      <td>0.80</td>\n",
       "      <td>0.759422</td>\n",
       "      <td>0</td>\n",
       "      <td>0.80</td>\n",
       "    </tr>\n",
       "    <tr>\n",
       "      <th>117</th>\n",
       "      <td>117</td>\n",
       "      <td>0.797393</td>\n",
       "      <td>0</td>\n",
       "      <td>0.74</td>\n",
       "      <td>0.797393</td>\n",
       "      <td>0</td>\n",
       "      <td>0.74</td>\n",
       "    </tr>\n",
       "    <tr>\n",
       "      <th>118</th>\n",
       "      <td>118</td>\n",
       "      <td>0.837263</td>\n",
       "      <td>0</td>\n",
       "      <td>0.68</td>\n",
       "      <td>0.837263</td>\n",
       "      <td>0</td>\n",
       "      <td>0.68</td>\n",
       "    </tr>\n",
       "    <tr>\n",
       "      <th>119</th>\n",
       "      <td>119</td>\n",
       "      <td>0.879126</td>\n",
       "      <td>0</td>\n",
       "      <td>0.63</td>\n",
       "      <td>0.879126</td>\n",
       "      <td>0</td>\n",
       "      <td>0.63</td>\n",
       "    </tr>\n",
       "  </tbody>\n",
       "</table>\n",
       "<p>120 rows × 7 columns</p>\n",
       "</div>"
      ],
      "text/plain": [
       "      age       m_d_p      m_nof m_life_exp       f_d_p      f_nof f_life_exp\n",
       "0       0    0.006081    100,000      76.23    0.005046    100,000      81.28\n",
       "1       1    0.000425     99,392      75.69    0.000349     99,495      80.69\n",
       "2       2    0.000260     99,350      74.73    0.000212     99,461      79.72\n",
       "3       3    0.000194     99,324      73.75    0.000166     99,440      78.74\n",
       "4       4    0.000154     99,305      72.76    0.000137     99,423      77.75\n",
       "..    ...         ...        ...        ...         ...        ...        ...\n",
       "115   115    0.723259          0       0.86    0.717864          0       0.87\n",
       "116   116    0.759422          0       0.80    0.759422          0       0.80\n",
       "117   117    0.797393          0       0.74    0.797393          0       0.74\n",
       "118   118    0.837263          0       0.68    0.837263          0       0.68\n",
       "119   119    0.879126          0       0.63    0.879126          0       0.63\n",
       "\n",
       "[120 rows x 7 columns]"
      ]
     },
     "execution_count": 6,
     "metadata": {},
     "output_type": "execute_result"
    }
   ],
   "source": [
    "x"
   ]
  },
  {
   "cell_type": "code",
   "execution_count": 24,
   "metadata": {},
   "outputs": [
    {
     "data": {
      "text/plain": [
       "5783.0099133661315"
      ]
     },
     "execution_count": 24,
     "metadata": {},
     "output_type": "execute_result"
    }
   ],
   "source": [
    "P = 100000\n",
    "r = 0.04\n",
    "n = 30\n",
    "def calcPayment(pv, r, n):\n",
    "    nom = r * pv\n",
    "    denom = (1 - (1+r)**-n)\n",
    "    return nom/denom\n",
    "\n",
    "calcPayment(P,r,n)"
   ]
  },
  {
   "cell_type": "code",
   "execution_count": 50,
   "metadata": {},
   "outputs": [
    {
     "name": "stdout",
     "output_type": "stream",
     "text": [
      "4337.619112211818\n"
     ]
    }
   ],
   "source": [
    "def getPayout(current_age=45, sex=\"male\",income=80000,savings=50000,expenses=500,retirement_age=65, health_info={}):\n",
    "    EXPENSE_GROWTH = 1.004\n",
    "    PRINCIPAL_GROWTH = 1.004\n",
    "    \n",
    "    my_path = Path(\n",
    "        \"C:/Users/moyer/OneDrive/development/fin-dashboard/curve.pkl\")\n",
    "    with open(my_path, 'rb') as f:\n",
    "        x = pickle.load(f)\n",
    "        \n",
    "        estimate = x[x.index == current_age]\n",
    "        if (sex == 'male'):\n",
    "            estimated_end_year = int(float(estimate.m_life_exp)) + current_age\n",
    "#         print(estimated_end_year)\n",
    "            \n",
    "#         return(estimate)\n",
    "        year_expense = expenses * 12\n",
    "        cols = ['age', 'savings', 'expenses','monthly_payment']\n",
    "        df = pd.DataFrame(columns = cols)\n",
    "    \n",
    "        encore_holding = savings\n",
    "        monthly_payout = 12 * calcPayment(encore_holding, 0.07, int(float(estimate.m_life_exp)))\n",
    "        print(monthly_payout)\n",
    "        for index, row in x[current_age:].iterrows():\n",
    "            if (int(row.age) == current_age):\n",
    "                # current year\n",
    "                df = df.append({\n",
    "                    \"age\":row.age,\n",
    "                    \"savings\":savings,\n",
    "                    \"expenses\": year_expense,\n",
    "                    \"monthly_payment\": 0\n",
    "                }, ignore_index=True)\n",
    "                savings = 0\n",
    "            elif (int(row.age) < retirement_age):\n",
    "                # before retirement\n",
    "#                 savings = income + savings - year_expense\n",
    "                year_expense = year_expense * 1.004\n",
    "                df = df.append({\n",
    "                    \"age\":row.age,\n",
    "                    \"savings\":savings,\n",
    "                    \"expenses\":year_expense,\n",
    "                    \"monthly_payment\": monthly_payout\n",
    "                }, ignore_index=True)\n",
    "            else:\n",
    "                # after retirement\n",
    "                principal_payment = (0.004 * year_expense)\n",
    "                encore_holding = encore_holding - principal_payment\n",
    "                df = df.append({\n",
    "                    \"age\":row.age,\n",
    "                    \"savings\":savings,\n",
    "                    \"expenses\":year_expense,\n",
    "                    \"monthly_payment\": monthly_payout + principal_payment\n",
    "                }, ignore_index=True)\n",
    "                \n",
    "        df.index = df.age\n",
    "        return df\n",
    "            \n",
    "            \n",
    "\n",
    "dfw = getPayout(current_age=26, sex=\"male\", income=100000,savings=5000,expenses=500,retirement_age=65,health_info={})"
   ]
  },
  {
   "cell_type": "code",
   "execution_count": 51,
   "metadata": {},
   "outputs": [
    {
     "data": {
      "text/plain": [
       "<AxesSubplot:xlabel='age'>"
      ]
     },
     "execution_count": 51,
     "metadata": {},
     "output_type": "execute_result"
    },
    {
     "data": {
      "image/png": "[encoded data removed]",
      "text/plain": [
       "<Figure size 648x576 with 1 Axes>"
      ]
     },
     "metadata": {
      "needs_background": "light"
     },
     "output_type": "display_data"
    }
   ],
   "source": [
    "dfw.plot(x=\"age\", y=[\"expenses\", \"monthly_payment\"], kind=\"line\", figsize=(9, 8))"
   ]
  },
  {
   "cell_type": "code",
   "execution_count": null,
   "metadata": {},
   "outputs": [],
   "source": []
  }
 ],
 "metadata": {
  "kernelspec": {
   "display_name": "Python (quant)",
   "language": "python",
   "name": "quant"
  },
  "language_info": {
   "codemirror_mode": {
    "name": "ipython",
    "version": 3
   },
   "file_extension": ".py",
   "mimetype": "text/x-python",
   "name": "python",
   "nbconvert_exporter": "python",
   "pygments_lexer": "ipython3",
   "version": "3.7.9"
  }
 },
 "nbformat": 4,
 "nbformat_minor": 4
}
