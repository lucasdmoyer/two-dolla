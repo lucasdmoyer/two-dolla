{
 "cells": [
  {
   "cell_type": "code",
   "execution_count": 39,
   "id": "ad1de437",
   "metadata": {},
   "outputs": [],
   "source": [
    "import requests\n",
    "from bs4 import BeautifulSoup\n",
    "import pandas as pd\n",
    "URL = \"https://www.irahelp.com/slottreport/new-2022-irs-life-expectancy-tables-available-here\"\n",
    "page = requests.get(URL)\n",
    "\n",
    "soup = BeautifulSoup(page.content, \"html.parser\")"
   ]
  },
  {
   "cell_type": "code",
   "execution_count": 25,
   "id": "7a3000d9",
   "metadata": {},
   "outputs": [],
   "source": [
    "table = soup.find_all(\"table\")[1]\n",
    "df = pd.DataFrame(columns = column_names)"
   ]
  },
  {
   "cell_type": "code",
   "execution_count": 27,
   "id": "78e15bf2",
   "metadata": {},
   "outputs": [],
   "source": [
    "thead = table.find('thead')\n",
    "tbody = table.find('tbody')"
   ]
  },
  {
   "cell_type": "code",
   "execution_count": 38,
   "id": "18d580e5",
   "metadata": {},
   "outputs": [
    {
     "name": "stdout",
     "output_type": "stream",
     "text": [
      "Age of\n",
      "stop\n",
      "IRA or Plan Beneficiary\n",
      "stop\n",
      "Life Expectancy\n",
      "stop\n",
      "(in years)\n",
      "stop\n",
      "Age of\n",
      "stop\n",
      "IRA or Plan Beneficiary\n",
      "stop\n",
      "Life Expectancy (in years)\n",
      "stop\n",
      "Age of\n",
      "stop\n",
      "IRA or Plan Beneficiary\n",
      "stop\n",
      "Life Expectancy\n",
      "stop\n",
      "(in years)\n",
      "stop\n"
     ]
    }
   ],
   "source": [
    "rows = tbody.find_all('tr')\n",
    "cols = rows[1].find_all('p')\n",
    "for col in cols: \n",
    "    print(col.text)\n",
    "    print('stop')"
   ]
  },
  {
   "cell_type": "code",
   "execution_count": 35,
   "id": "77a4ac02",
   "metadata": {},
   "outputs": [
    {
     "name": "stdout",
     "output_type": "stream",
     "text": [
      "<tr><td><p align=\"center\">0</p><p align=\"center\">1</p><p align=\"center\">2</p><p align=\"center\">3</p><p align=\"center\">4</p><p align=\"center\">5</p><p> </p></td><td style=\"width:99px;\"><p align=\"center\">84.6</p><p align=\"center\">83.7</p><p align=\"center\">82.8</p><p align=\"center\">81.8</p><p align=\"center\">80.8</p><p align=\"center\">79.8</p><p> </p></td><td><p align=\"center\"> </p><p align=\"center\">41</p><p align=\"center\">42</p><p align=\"center\">43</p><p align=\"center\">44</p><p align=\"center\">45</p><p> </p></td><td style=\"width:96px;\"><p align=\"center\"> </p><p align=\"center\">44.8</p><p align=\"center\">43.8</p><p align=\"center\">42.9</p><p align=\"center\">41.9</p><p align=\"center\">41.0</p></td><td style=\"width:101px;\"><p align=\"center\"> </p><p align=\"center\">81</p><p align=\"center\">82</p><p align=\"center\">83</p><p align=\"center\">84</p><p align=\"center\">85</p><p> </p></td><td><p align=\"center\"> </p><p align=\"center\">10.5</p><p align=\"center\">9.9</p><p align=\"center\">9.3</p><p align=\"center\">8.7</p><p align=\"center\">8.1</p><p> </p></td></tr>\n",
      "<tr><td><p align=\"center\">6</p><p align=\"center\">7</p><p align=\"center\">8</p><p align=\"center\">9</p><p align=\"center\">10</p></td><td style=\"width:99px;\"><p align=\"center\">78.8</p><p align=\"center\">77.9</p><p align=\"center\">76.9</p><p align=\"center\">75.9</p><p align=\"center\">74.9</p></td><td><p align=\"center\">46</p><p align=\"center\">47</p><p align=\"center\">48</p><p align=\"center\">49</p><p align=\"center\">50</p></td><td style=\"width:96px;\"><p align=\"center\">40.0</p><p align=\"center\">39.0</p><p align=\"center\">38.1</p><p align=\"center\">37.1</p><p align=\"center\">36.2</p></td><td style=\"width:101px;\"><p align=\"center\">86</p><p align=\"center\">87</p><p align=\"center\">88</p><p align=\"center\">89</p><p align=\"center\">90</p></td><td><p align=\"center\">7.6</p><p align=\"center\">7.1</p><p align=\"center\">6.6</p><p align=\"center\">6.1</p><p align=\"center\">5.7</p><p align=\"center\"> </p></td></tr>\n",
      "<tr><td><p align=\"center\">11</p><p align=\"center\">12</p><p align=\"center\">13</p><p align=\"center\">14</p><p align=\"center\">15</p></td><td style=\"width:99px;\"><p align=\"center\">73.9</p><p align=\"center\">72.9</p><p align=\"center\">71.9</p><p align=\"center\">70.9</p><p align=\"center\">69.9</p><p align=\"center\"> </p></td><td><p align=\"center\">51</p><p align=\"center\">52</p><p align=\"center\">53</p><p align=\"center\">54</p><p align=\"center\">55</p></td><td style=\"width:96px;\"><p align=\"center\">35.3</p><p align=\"center\">34.3</p><p align=\"center\">33.4</p><p align=\"center\">32.5</p><p align=\"center\">31.6</p></td><td style=\"width:101px;\"><p align=\"center\">91</p><p align=\"center\">92</p><p align=\"center\">93</p><p align=\"center\">94</p><p align=\"center\">95</p><p align=\"center\"> </p></td><td><p align=\"center\">5.3</p><p align=\"center\">4.9</p><p align=\"center\">4.6</p><p align=\"center\">4.3</p><p align=\"center\">4.0</p><p align=\"center\"> </p></td></tr>\n",
      "<tr><td style=\"height:14px;\"><p align=\"center\">16</p><p align=\"center\">17</p><p align=\"center\">18</p><p align=\"center\">19</p><p align=\"center\">20</p><p align=\"center\"> </p></td><td style=\"width:99px;height:14px;\"><p align=\"center\">69.0</p><p align=\"center\">68.0</p><p align=\"center\">67.0</p><p align=\"center\">66.0</p><p align=\"center\">65.0</p></td><td style=\"height:14px;\"><p align=\"center\">56</p><p align=\"center\">57</p><p align=\"center\">58</p><p align=\"center\">59</p><p align=\"center\">60</p></td><td style=\"width:96px;height:14px;\"><p align=\"center\">30.6</p><p align=\"center\">29.8</p><p align=\"center\">28.9</p><p align=\"center\">28.0</p><p align=\"center\">27.1</p><p align=\"center\"> </p></td><td style=\"width:101px;height:14px;\"><p align=\"center\">96</p><p align=\"center\">97</p><p align=\"center\">98</p><p align=\"center\">99</p><p align=\"center\">100</p><p align=\"center\"> </p></td><td style=\"height:14px;\"><p align=\"center\">3.7</p><p align=\"center\">3.4</p><p align=\"center\">3.2</p><p align=\"center\">3.0</p><p align=\"center\">2.8</p></td></tr>\n",
      "<tr><td><p align=\"center\">21</p><p align=\"center\">22</p><p align=\"center\">23</p><p align=\"center\">24</p><p align=\"center\">25</p><p align=\"center\"> </p></td><td style=\"width:99px;\"><p align=\"center\">64.1</p><p align=\"center\">63.1</p><p align=\"center\">62.1</p><p align=\"center\">61.1</p><p align=\"center\">60.2</p><p align=\"center\"> </p></td><td><p align=\"center\">61</p><p align=\"center\">62</p><p align=\"center\">63</p><p align=\"center\">64</p><p align=\"center\">65</p></td><td style=\"width:96px;\"><p align=\"center\">26.2</p><p align=\"center\">25.4</p><p align=\"center\">24.5</p><p align=\"center\">23.7</p><p align=\"center\">22.9</p></td><td style=\"width:101px;\"><p align=\"center\">101</p><p align=\"center\">102</p><p align=\"center\">103</p><p>        104</p><p>        105</p><p> </p></td><td><p align=\"center\">2.6</p><p align=\"center\">2.5</p><p align=\"center\">2.3</p><p align=\"center\">2.2</p><p align=\"center\">2.1</p></td></tr>\n",
      "<tr><td style=\"height:88px;\"><p align=\"center\">26</p><p align=\"center\">27</p><p align=\"center\">28</p><p align=\"center\">29</p><p align=\"center\">30</p></td><td style=\"width:99px;height:88px;\"><p align=\"center\">59.2</p><p align=\"center\">58.2</p><p align=\"center\">57.3</p><p align=\"center\">56.3</p><p align=\"center\">55.3</p></td><td style=\"height:88px;\"><p align=\"center\">66</p><p align=\"center\">67</p><p align=\"center\">68</p><p align=\"center\">69</p><p align=\"center\">70</p><p align=\"center\"> </p></td><td style=\"width:96px;height:88px;\"><p align=\"center\">22.0</p><p align=\"center\">21.2</p><p align=\"center\">20.4</p><p align=\"center\">19.6</p><p align=\"center\">18.8</p></td><td style=\"width:101px;height:88px;\"><p align=\"center\">106</p><p align=\"center\">107</p><p align=\"center\">108</p><p align=\"center\">109</p><p align=\"center\">110</p></td><td style=\"height:88px;\"><p align=\"center\">2.1</p><p align=\"center\">2.1</p><p align=\"center\">2.0</p><p align=\"center\">2.0</p><p align=\"center\">2.0</p><p align=\"center\"> </p></td></tr>\n",
      "<tr><td style=\"height:93px;\"><p align=\"center\">31</p><p align=\"center\">32</p><p align=\"center\">33</p><p align=\"center\">34</p><p align=\"center\">35</p></td><td style=\"width:99px;height:93px;\"><p align=\"center\">54.4</p><p align=\"center\">53.4</p><p align=\"center\">52.5</p><p align=\"center\">51.5</p><p align=\"center\">50.5</p><p align=\"center\"> </p></td><td style=\"height:93px;\"><p align=\"center\">71</p><p align=\"center\">72</p><p align=\"center\">73</p><p align=\"center\">74</p><p align=\"center\">75</p></td><td style=\"width:96px;height:93px;\"><p align=\"center\">18.0</p><p align=\"center\">17.2</p><p align=\"center\">16.4</p><p align=\"center\">15.6</p><p align=\"center\">14.8</p></td><td style=\"width:101px;height:93px;\"><p align=\"center\">111</p><p align=\"center\">112</p><p align=\"center\">113</p><p align=\"center\">114</p><p align=\"center\">115</p><p align=\"center\"> </p></td><td style=\"height:93px;\"><p align=\"center\">2.0</p><p align=\"center\">2.0</p><p align=\"center\">1.9</p><p align=\"center\">1.9</p><p align=\"center\">1.8</p></td></tr>\n",
      "<tr><td style=\"height:94px;\"><p align=\"center\">36</p><p align=\"center\">37</p><p align=\"center\">38</p><p align=\"center\">39</p><p align=\"center\">40</p><p align=\"center\"> </p></td><td style=\"width:99px;height:94px;\"><p align=\"center\">49.6</p><p align=\"center\">48.6</p><p align=\"center\">47.7</p><p align=\"center\">46.7</p><p align=\"center\">45.7</p></td><td style=\"height:94px;\"><p align=\"center\">76</p><p align=\"center\">77</p><p align=\"center\">78</p><p align=\"center\">79</p><p align=\"center\">80</p></td><td style=\"width:96px;height:94px;\"><p align=\"center\">14.1</p><p align=\"center\">13.3</p><p align=\"center\">12.6</p><p align=\"center\">11.9</p><p align=\"center\">11.2</p></td><td style=\"width:101px;height:94px;\"><p align=\"center\">116</p><p align=\"center\">117</p><p align=\"center\">118</p><p align=\"center\">119</p><p align=\"center\">120+</p></td><td style=\"height:94px;\"><p align=\"center\">1.8</p><p align=\"center\">1.6</p><p align=\"center\">1.4</p><p align=\"center\">1.1</p><p align=\"center\">1.0</p></td></tr>\n"
     ]
    }
   ],
   "source": [
    "for row in rows[2:]:\n",
    "    print(row)"
   ]
  },
  {
   "cell_type": "code",
   "execution_count": null,
   "id": "1ea3ce4a",
   "metadata": {},
   "outputs": [],
   "source": []
  }
 ],
 "metadata": {
  "kernelspec": {
   "display_name": "Python (quant)",
   "language": "python",
   "name": "myenv"
  },
  "language_info": {
   "codemirror_mode": {
    "name": "ipython",
    "version": 3
   },
   "file_extension": ".py",
   "mimetype": "text/x-python",
   "name": "python",
   "nbconvert_exporter": "python",
   "pygments_lexer": "ipython3",
   "version": "3.7.9"
  }
 },
 "nbformat": 4,
 "nbformat_minor": 5
}
