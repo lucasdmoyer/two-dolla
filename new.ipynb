{
 "cells": [
  {
   "cell_type": "code",
   "execution_count": 1,
   "metadata": {},
   "outputs": [],
   "source": [
    "from fastapi import FastAPI, File, UploadFile\n",
    "from fastapi.encoders import jsonable_encoder\n",
    "from fastapi.responses import JSONResponse\n",
    "from fastapi.middleware.cors import CORSMiddleware\n",
    "from starlette.middleware.cors import CORSMiddleware\n",
    "import json\n",
    "from yahoofinancials import YahooFinancials as YF\n",
    "import time\n",
    "import datetime\n",
    "import pandas as pd\n",
    "from pandas_datareader import data\n",
    "from typing import List, Optional\n",
    "import os\n",
    "import pickle \n",
    "from tqdm import tqdm\n",
    "import scipy.stats as sp\n",
    "from utils import *\n",
    "from pydantic import BaseModel\n",
    "from backtester import *\n",
    "from backtest import *\n",
    "import matplotlib.pyplot as plt\n",
    "import quandl\n",
    "\n"
   ]
  },
  {
   "cell_type": "code",
   "execution_count": 2,
   "metadata": {},
   "outputs": [],
   "source": [
    "path = r\"C:\\Users\\moyer\\OneDrive\\development\\stocks.pkl\"\n",
    "stocks = {}\n",
    "tickers = ['T','MSFT','AAPL']\n",
    "days_back = 100\n",
    "with open(path, \"rb\") as pkl_handle:\n",
    "    stocks = pickle.load(pkl_handle)\n",
    "    for ticker in tickers:   \n",
    "        stocks[ticker] = stocks[ticker].tail(days_back)"
   ]
  },
  {
   "cell_type": "code",
   "execution_count": 3,
   "metadata": {},
   "outputs": [
    {
     "data": {
      "text/html": [
       "<div>\n",
       "<style scoped>\n",
       "    .dataframe tbody tr th:only-of-type {\n",
       "        vertical-align: middle;\n",
       "    }\n",
       "\n",
       "    .dataframe tbody tr th {\n",
       "        vertical-align: top;\n",
       "    }\n",
       "\n",
       "    .dataframe thead th {\n",
       "        text-align: right;\n",
       "    }\n",
       "</style>\n",
       "<table border=\"1\" class=\"dataframe\">\n",
       "  <thead>\n",
       "    <tr style=\"text-align: right;\">\n",
       "      <th></th>\n",
       "      <th>AAPL</th>\n",
       "      <th>AAPL_position</th>\n",
       "      <th>AAPL_pos_diff</th>\n",
       "      <th>AAPL_cash</th>\n",
       "      <th>AAPL_holdings</th>\n",
       "      <th>AAPL_open</th>\n",
       "      <th>AAPL_close</th>\n",
       "      <th>holdings</th>\n",
       "      <th>cash_diff</th>\n",
       "      <th>cash</th>\n",
       "      <th>total</th>\n",
       "      <th>returns</th>\n",
       "      <th>date</th>\n",
       "    </tr>\n",
       "    <tr>\n",
       "      <th>Date</th>\n",
       "      <th></th>\n",
       "      <th></th>\n",
       "      <th></th>\n",
       "      <th></th>\n",
       "      <th></th>\n",
       "      <th></th>\n",
       "      <th></th>\n",
       "      <th></th>\n",
       "      <th></th>\n",
       "      <th></th>\n",
       "      <th></th>\n",
       "      <th></th>\n",
       "      <th></th>\n",
       "    </tr>\n",
       "  </thead>\n",
       "  <tbody>\n",
       "    <tr>\n",
       "      <th>2021-08-25</th>\n",
       "      <td>0.265543</td>\n",
       "      <td>0.265543</td>\n",
       "      <td>0.000000</td>\n",
       "      <td>0.000000</td>\n",
       "      <td>39.780947</td>\n",
       "      <td>149.809998</td>\n",
       "      <td>148.360001</td>\n",
       "      <td>39.780947</td>\n",
       "      <td>0.000000</td>\n",
       "      <td>1000.000000</td>\n",
       "      <td>1039.780947</td>\n",
       "      <td>0.000000</td>\n",
       "      <td>08/25/2021</td>\n",
       "    </tr>\n",
       "    <tr>\n",
       "      <th>2021-08-26</th>\n",
       "      <td>1.587799</td>\n",
       "      <td>1.587799</td>\n",
       "      <td>1.322256</td>\n",
       "      <td>196.156670</td>\n",
       "      <td>235.549928</td>\n",
       "      <td>148.350006</td>\n",
       "      <td>147.539993</td>\n",
       "      <td>235.549928</td>\n",
       "      <td>196.156670</td>\n",
       "      <td>803.843330</td>\n",
       "      <td>1039.393257</td>\n",
       "      <td>-0.000373</td>\n",
       "      <td>08/26/2021</td>\n",
       "    </tr>\n",
       "    <tr>\n",
       "      <th>2021-08-27</th>\n",
       "      <td>1.591876</td>\n",
       "      <td>1.591876</td>\n",
       "      <td>0.004077</td>\n",
       "      <td>0.601286</td>\n",
       "      <td>234.769813</td>\n",
       "      <td>147.479996</td>\n",
       "      <td>148.600006</td>\n",
       "      <td>234.769813</td>\n",
       "      <td>0.601286</td>\n",
       "      <td>803.242043</td>\n",
       "      <td>1038.011856</td>\n",
       "      <td>-0.001329</td>\n",
       "      <td>08/27/2021</td>\n",
       "    </tr>\n",
       "    <tr>\n",
       "      <th>2021-08-30</th>\n",
       "      <td>1.637787</td>\n",
       "      <td>1.637787</td>\n",
       "      <td>0.045912</td>\n",
       "      <td>6.840825</td>\n",
       "      <td>244.030296</td>\n",
       "      <td>149.000000</td>\n",
       "      <td>153.119995</td>\n",
       "      <td>244.030296</td>\n",
       "      <td>6.840825</td>\n",
       "      <td>796.401218</td>\n",
       "      <td>1040.431514</td>\n",
       "      <td>0.002331</td>\n",
       "      <td>08/30/2021</td>\n",
       "    </tr>\n",
       "    <tr>\n",
       "      <th>2021-08-31</th>\n",
       "      <td>1.660831</td>\n",
       "      <td>1.660831</td>\n",
       "      <td>0.023044</td>\n",
       "      <td>3.517869</td>\n",
       "      <td>253.542473</td>\n",
       "      <td>152.660004</td>\n",
       "      <td>151.830002</td>\n",
       "      <td>253.542473</td>\n",
       "      <td>3.517869</td>\n",
       "      <td>792.883348</td>\n",
       "      <td>1046.425821</td>\n",
       "      <td>0.005761</td>\n",
       "      <td>08/31/2021</td>\n",
       "    </tr>\n",
       "    <tr>\n",
       "      <th>...</th>\n",
       "      <td>...</td>\n",
       "      <td>...</td>\n",
       "      <td>...</td>\n",
       "      <td>...</td>\n",
       "      <td>...</td>\n",
       "      <td>...</td>\n",
       "      <td>...</td>\n",
       "      <td>...</td>\n",
       "      <td>...</td>\n",
       "      <td>...</td>\n",
       "      <td>...</td>\n",
       "      <td>...</td>\n",
       "      <td>...</td>\n",
       "    </tr>\n",
       "    <tr>\n",
       "      <th>2022-01-10</th>\n",
       "      <td>1.809076</td>\n",
       "      <td>1.809076</td>\n",
       "      <td>-0.056562</td>\n",
       "      <td>-9.563568</td>\n",
       "      <td>305.878591</td>\n",
       "      <td>169.080002</td>\n",
       "      <td>172.190002</td>\n",
       "      <td>305.878591</td>\n",
       "      <td>-9.563568</td>\n",
       "      <td>772.647046</td>\n",
       "      <td>1078.525637</td>\n",
       "      <td>-0.006547</td>\n",
       "      <td>01/10/2022</td>\n",
       "    </tr>\n",
       "    <tr>\n",
       "      <th>2022-01-11</th>\n",
       "      <td>1.789562</td>\n",
       "      <td>1.789562</td>\n",
       "      <td>-0.019515</td>\n",
       "      <td>-3.362752</td>\n",
       "      <td>308.377255</td>\n",
       "      <td>172.320007</td>\n",
       "      <td>175.080002</td>\n",
       "      <td>308.377255</td>\n",
       "      <td>-3.362752</td>\n",
       "      <td>776.009798</td>\n",
       "      <td>1084.387054</td>\n",
       "      <td>0.005435</td>\n",
       "      <td>01/11/2022</td>\n",
       "    </tr>\n",
       "    <tr>\n",
       "      <th>2022-01-12</th>\n",
       "      <td>1.776092</td>\n",
       "      <td>1.776092</td>\n",
       "      <td>-0.013470</td>\n",
       "      <td>-2.372317</td>\n",
       "      <td>312.805251</td>\n",
       "      <td>176.119995</td>\n",
       "      <td>175.529999</td>\n",
       "      <td>312.805251</td>\n",
       "      <td>-2.372317</td>\n",
       "      <td>778.382115</td>\n",
       "      <td>1091.187366</td>\n",
       "      <td>0.006271</td>\n",
       "      <td>01/12/2022</td>\n",
       "    </tr>\n",
       "    <tr>\n",
       "      <th>2022-01-13</th>\n",
       "      <td>1.731662</td>\n",
       "      <td>1.731662</td>\n",
       "      <td>-0.044430</td>\n",
       "      <td>-7.809902</td>\n",
       "      <td>304.391484</td>\n",
       "      <td>175.779999</td>\n",
       "      <td>172.190002</td>\n",
       "      <td>304.391484</td>\n",
       "      <td>-7.809902</td>\n",
       "      <td>786.192017</td>\n",
       "      <td>1090.583501</td>\n",
       "      <td>-0.000553</td>\n",
       "      <td>01/13/2022</td>\n",
       "    </tr>\n",
       "    <tr>\n",
       "      <th>2022-01-14</th>\n",
       "      <td>1.703596</td>\n",
       "      <td>1.703596</td>\n",
       "      <td>-0.028066</td>\n",
       "      <td>-4.808758</td>\n",
       "      <td>291.894143</td>\n",
       "      <td>171.339996</td>\n",
       "      <td>173.070007</td>\n",
       "      <td>291.894143</td>\n",
       "      <td>-4.808758</td>\n",
       "      <td>791.000775</td>\n",
       "      <td>1082.894919</td>\n",
       "      <td>-0.007050</td>\n",
       "      <td>01/14/2022</td>\n",
       "    </tr>\n",
       "  </tbody>\n",
       "</table>\n",
       "<p>100 rows × 13 columns</p>\n",
       "</div>"
      ],
      "text/plain": [
       "                AAPL  AAPL_position  AAPL_pos_diff   AAPL_cash  AAPL_holdings  \\\n",
       "Date                                                                            \n",
       "2021-08-25  0.265543       0.265543       0.000000    0.000000      39.780947   \n",
       "2021-08-26  1.587799       1.587799       1.322256  196.156670     235.549928   \n",
       "2021-08-27  1.591876       1.591876       0.004077    0.601286     234.769813   \n",
       "2021-08-30  1.637787       1.637787       0.045912    6.840825     244.030296   \n",
       "2021-08-31  1.660831       1.660831       0.023044    3.517869     253.542473   \n",
       "...              ...            ...            ...         ...            ...   \n",
       "2022-01-10  1.809076       1.809076      -0.056562   -9.563568     305.878591   \n",
       "2022-01-11  1.789562       1.789562      -0.019515   -3.362752     308.377255   \n",
       "2022-01-12  1.776092       1.776092      -0.013470   -2.372317     312.805251   \n",
       "2022-01-13  1.731662       1.731662      -0.044430   -7.809902     304.391484   \n",
       "2022-01-14  1.703596       1.703596      -0.028066   -4.808758     291.894143   \n",
       "\n",
       "             AAPL_open  AAPL_close    holdings   cash_diff         cash  \\\n",
       "Date                                                                      \n",
       "2021-08-25  149.809998  148.360001   39.780947    0.000000  1000.000000   \n",
       "2021-08-26  148.350006  147.539993  235.549928  196.156670   803.843330   \n",
       "2021-08-27  147.479996  148.600006  234.769813    0.601286   803.242043   \n",
       "2021-08-30  149.000000  153.119995  244.030296    6.840825   796.401218   \n",
       "2021-08-31  152.660004  151.830002  253.542473    3.517869   792.883348   \n",
       "...                ...         ...         ...         ...          ...   \n",
       "2022-01-10  169.080002  172.190002  305.878591   -9.563568   772.647046   \n",
       "2022-01-11  172.320007  175.080002  308.377255   -3.362752   776.009798   \n",
       "2022-01-12  176.119995  175.529999  312.805251   -2.372317   778.382115   \n",
       "2022-01-13  175.779999  172.190002  304.391484   -7.809902   786.192017   \n",
       "2022-01-14  171.339996  173.070007  291.894143   -4.808758   791.000775   \n",
       "\n",
       "                  total   returns        date  \n",
       "Date                                           \n",
       "2021-08-25  1039.780947  0.000000  08/25/2021  \n",
       "2021-08-26  1039.393257 -0.000373  08/26/2021  \n",
       "2021-08-27  1038.011856 -0.001329  08/27/2021  \n",
       "2021-08-30  1040.431514  0.002331  08/30/2021  \n",
       "2021-08-31  1046.425821  0.005761  08/31/2021  \n",
       "...                 ...       ...         ...  \n",
       "2022-01-10  1078.525637 -0.006547  01/10/2022  \n",
       "2022-01-11  1084.387054  0.005435  01/11/2022  \n",
       "2022-01-12  1091.187366  0.006271  01/12/2022  \n",
       "2022-01-13  1090.583501 -0.000553  01/13/2022  \n",
       "2022-01-14  1082.894919 -0.007050  01/14/2022  \n",
       "\n",
       "[100 rows x 13 columns]"
      ]
     },
     "execution_count": 3,
     "metadata": {},
     "output_type": "execute_result"
    }
   ],
   "source": [
    "stock = Stock(stocks['AAPL'], 'AAPL')\n",
    "stock.ticker\n",
    "params1 = {\n",
    "    'AAPL': 1,\n",
    "}\n",
    "params2 = {\n",
    "    'AAPL': 0.33,\n",
    "}\n",
    "macd_params = {\n",
    "    'AAPL': {\n",
    "        'short': 13,\n",
    "        'long':21\n",
    "    },\n",
    "}\n",
    "markowtiz_params = {\n",
    "    'tickers': ['AAPL']\n",
    "}\n",
    "strats = [\n",
    "    stock.buyWeights(params=params1),\n",
    "    stock.buyWeights(params=params2),\n",
    "    stock.macd(macd_params),\n",
    "    # stock.markowitz(markowtiz_params)\n",
    "]\n",
    "stock.strategies = strats\n",
    "stock.backtest()\n",
    "stock.positions\n",
    "\n",
    "\n"
   ]
  },
  {
   "cell_type": "code",
   "execution_count": 8,
   "metadata": {},
   "outputs": [
    {
     "name": "stdout",
     "output_type": "stream",
     "text": [
      "Optimum\n",
      "{'AAPL': 152.58934419635207, 'MSFT': 4.08363964421468, 'T': 43.32701615943325}\n"
     ]
    },
    {
     "data": {
      "text/plain": [
       "<matplotlib.axes._subplots.AxesSubplot at 0x1ad7034b148>"
      ]
     },
     "execution_count": 8,
     "metadata": {},
     "output_type": "execute_result"
    },
    {
     "data": {
      "image/png": "[encoded data removed]",
      "text/plain": [
       "<Figure size 432x288 with 1 Axes>"
      ]
     },
     "metadata": {
      "needs_background": "light"
     },
     "output_type": "display_data"
    }
   ],
   "source": [
    "\n",
    "port = Portfolio(stocks,10000);\n",
    "port.stocks = [Stock(stocks[x], x,port.initial_capital/len(tickers)) for x in tickers]\n",
    "markowtiz_params = {\n",
    "    'tickers': ['AAPL', 'T','MSFT'],\n",
    "    'weight':23\n",
    "}\n",
    "strats = [\n",
    "    port.markowitz(params = markowtiz_params,weight=200)\n",
    "]\n",
    "port.strategies = strats\n",
    "port.backtest_portfolio()\n",
    "# port.positions.head()\n",
    "port.positions.total.plot()\n",
    "\n",
    "\n"
   ]
  },
  {
   "cell_type": "code",
   "execution_count": 29,
   "metadata": {},
   "outputs": [
    {
     "data": {
      "text/plain": [
       "[<backtest.Stock at 0x17d45f6ae08>,\n",
       " <backtest.Stock at 0x17d45ea2e48>,\n",
       " <backtest.Stock at 0x17d45eaac88>]"
      ]
     },
     "execution_count": 29,
     "metadata": {},
     "output_type": "execute_result"
    }
   ],
   "source": []
  },
  {
   "cell_type": "code",
   "execution_count": 5,
   "metadata": {},
   "outputs": [
    {
     "ename": "AttributeError",
     "evalue": "'MyPortfolio' object has no attribute 'buyWeights'",
     "output_type": "error",
     "traceback": [
      "\u001b[1;31m---------------------------------------------------------------------------\u001b[0m",
      "\u001b[1;31mAttributeError\u001b[0m                            Traceback (most recent call last)",
      "\u001b[1;32m<ipython-input-5-da2f72543cc7>\u001b[0m in \u001b[0;36m<module>\u001b[1;34m\u001b[0m\n\u001b[0;32m     25\u001b[0m }\n\u001b[0;32m     26\u001b[0m strats = [\n\u001b[1;32m---> 27\u001b[1;33m     \u001b[0mportfolio\u001b[0m\u001b[1;33m.\u001b[0m\u001b[0mbuyWeights\u001b[0m\u001b[1;33m(\u001b[0m\u001b[0mparams\u001b[0m\u001b[1;33m=\u001b[0m\u001b[0mparams1\u001b[0m\u001b[1;33m)\u001b[0m\u001b[1;33m,\u001b[0m\u001b[1;33m\u001b[0m\u001b[1;33m\u001b[0m\u001b[0m\n\u001b[0m\u001b[0;32m     28\u001b[0m     \u001b[0mportfolio\u001b[0m\u001b[1;33m.\u001b[0m\u001b[0mbuyWeights\u001b[0m\u001b[1;33m(\u001b[0m\u001b[0mparams\u001b[0m\u001b[1;33m=\u001b[0m\u001b[0mparams2\u001b[0m\u001b[1;33m)\u001b[0m\u001b[1;33m,\u001b[0m\u001b[1;33m\u001b[0m\u001b[1;33m\u001b[0m\u001b[0m\n\u001b[0;32m     29\u001b[0m     \u001b[0mportfolio\u001b[0m\u001b[1;33m.\u001b[0m\u001b[0mmacd\u001b[0m\u001b[1;33m(\u001b[0m\u001b[0mmacd_params\u001b[0m\u001b[1;33m)\u001b[0m\u001b[1;33m,\u001b[0m\u001b[1;33m\u001b[0m\u001b[1;33m\u001b[0m\u001b[0m\n",
      "\u001b[1;31mAttributeError\u001b[0m: 'MyPortfolio' object has no attribute 'buyWeights'"
     ]
    }
   ],
   "source": [
    "bars = stocks\n",
    "portfolio = MyPortfolio(bars, initial_capital=1000)\n",
    "params1 = {\n",
    "    'AAPL': 1,\n",
    "    'T': 0,\n",
    "    'MSFT': 0\n",
    "}\n",
    "params2 = {\n",
    "    'AAPL': 0.33,\n",
    "    'T': 0.33,\n",
    "    'MSFT': 0.33\n",
    "}\n",
    "macd_params = {\n",
    "    'AAPL': {\n",
    "        'short': 13,\n",
    "        'long':21\n",
    "    },\n",
    "    'T': {\n",
    "        'short': 13,\n",
    "        'long':21\n",
    "    },\n",
    "}\n",
    "markowtiz_params = {\n",
    "    'tickers': ['AAPL','T','MSFT']\n",
    "}\n",
    "strats = [\n",
    "    portfolio.buyWeights(params=params1),\n",
    "    portfolio.buyWeights(params=params2),\n",
    "    portfolio.macd(macd_params),\n",
    "    portfolio.markowitz(markowtiz_params)\n",
    "]\n",
    "portfolio.setStrats(strats)\n",
    "# print(portfolio.strategies)\n",
    "# portfolio.genSignals([])\n",
    "\n",
    "portfolio.generate_positions()\n",
    "portfolio.backtest_portfolio()\n"
   ]
  },
  {
   "cell_type": "markdown",
   "metadata": {},
   "source": []
  },
  {
   "cell_type": "code",
   "execution_count": 5,
   "metadata": {},
   "outputs": [
    {
     "data": {
      "text/plain": [
       "<matplotlib.axes._subplots.AxesSubplot at 0x23bdfe81608>"
      ]
     },
     "execution_count": 5,
     "metadata": {},
     "output_type": "execute_result"
    },
    {
     "data": {
      "image/png": "[encoded data removed]",
      "text/plain": [
       "<Figure size 432x288 with 1 Axes>"
      ]
     },
     "metadata": {
      "needs_background": "light"
     },
     "output_type": "display_data"
    }
   ],
   "source": [
    "portfolio.positions.total.plot()"
   ]
  },
  {
   "cell_type": "code",
   "execution_count": 12,
   "metadata": {},
   "outputs": [
    {
     "data": {
      "text/plain": [
       "<matplotlib.axes._subplots.AxesSubplot at 0x17b6d6e3fc8>"
      ]
     },
     "execution_count": 12,
     "metadata": {},
     "output_type": "execute_result"
    },
    {
     "data": {
      "image/png": "[encoded data removed]",
      "text/plain": [
       "<Figure size 432x288 with 1 Axes>"
      ]
     },
     "metadata": {
      "needs_background": "light"
     },
     "output_type": "display_data"
    }
   ],
   "source": [
    "portfolio.positions.total.plot()"
   ]
  },
  {
   "cell_type": "code",
   "execution_count": 9,
   "metadata": {},
   "outputs": [
    {
     "data": {
      "text/plain": [
       "<matplotlib.axes._subplots.AxesSubplot at 0x17b70ea3488>"
      ]
     },
     "execution_count": 9,
     "metadata": {},
     "output_type": "execute_result"
    },
    {
     "data": {
      "image/png": "[encoded data removed]",
      "text/plain": [
       "<Figure size 432x288 with 1 Axes>"
      ]
     },
     "metadata": {
      "needs_background": "light"
     },
     "output_type": "display_data"
    },
    {
     "data": {
      "image/png": "[encoded data removed]",
      "text/plain": [
       "<Figure size 432x288 with 1 Axes>"
      ]
     },
     "metadata": {
      "needs_background": "light"
     },
     "output_type": "display_data"
    }
   ],
   "source": [
    "#portfolio.positions[['date','total','AAPL_holdings','AAPL_cash', 'AAPL_open', 'holdings','cash_diff','cash']]\n",
    "portfolio.bars['AAPL'][['macd_norm']].plot()\n",
    "portfolio.bars['AAPL'][['macd']].plot()"
   ]
  },
  {
   "cell_type": "code",
   "execution_count": 15,
   "metadata": {},
   "outputs": [],
   "source": [
    "df = portfolio.bars['AAPL']\n",
    "exp1 = df['Adj Close'].ewm(span=12, adjust=False).mean()\n",
    "exp2 = df['Adj Close'].ewm(span=26, adjust=False).mean()\n",
    "df['exp1'] = df['Adj Close'].ewm(span=12, adjust=False).mean()\n",
    "df['exp2'] = df['Adj Close'].ewm(span=26, adjust=False).mean()\n",
    "df['macd'] = exp1-exp2\n",
    "df['macd_signal'] = df['macd'].ewm(\n",
    "    span=9, adjust=False).mean()"
   ]
  },
  {
   "cell_type": "code",
   "execution_count": 16,
   "metadata": {},
   "outputs": [
    {
     "data": {
      "text/plain": [
       "<matplotlib.axes._subplots.AxesSubplot at 0x25b1a489d88>"
      ]
     },
     "execution_count": 16,
     "metadata": {},
     "output_type": "execute_result"
    },
    {
     "data": {
      "image/png": "[encoded data removed]",
      "text/plain": [
       "<Figure size 432x288 with 1 Axes>"
      ]
     },
     "metadata": {
      "needs_background": "light"
     },
     "output_type": "display_data"
    },
    {
     "data": {
      "image/png": "[encoded data removed]",
      "text/plain": [
       "<Figure size 432x288 with 1 Axes>"
      ]
     },
     "metadata": {
      "needs_background": "light"
     },
     "output_type": "display_data"
    }
   ],
   "source": [
    "df[['exp1','exp2']].plot()\n",
    "portfolio.bars['AAPL'][['macd']].plot()"
   ]
  },
  {
   "cell_type": "code",
   "execution_count": 4,
   "metadata": {},
   "outputs": [],
   "source": [
    "df = pd.DataFrame(index=portfolio.bars[next(iter(portfolio.bars))].index)\n",
    "bars = addReturns(portfolio.bars, 'Adj Close')\n",
    "port_returns = getPortReturns(bars)"
   ]
  },
  {
   "cell_type": "code",
   "execution_count": 5,
   "metadata": {},
   "outputs": [],
   "source": [
    "risk_free = 0\n",
    "markov_runs = 100\n",
    "df = pd.DataFrame(columns=[\"id\", \"return\", \"volatility\", \"weights\"])\n",
    "for x in range(0, int(markov_runs)):\n",
    "    weights = getRandomWeights(len(tickers))\n",
    "    volatility = getPortWeightedVol(port_returns, weights)\n",
    "    ann_ret = getPortWeightedAnnualReturn(port_returns, weights)\n",
    "    row = {\n",
    "        \"id\": x,\n",
    "        \"return\": ann_ret,\n",
    "        \"volatility\": volatility,\n",
    "        \"weights\": weights\n",
    "    }\n",
    "    df = df.append(row, ignore_index=True)\n",
    "df[\"sharpe\"] = (df[\"return\"] - risk_free) / df[\"volatility\"]\n",
    "\n",
    "MSR = df.sort_values(by=[\"sharpe\"], ascending=False).head(1)\n",
    "GMV = df.sort_values(by=[\"volatility\"], ascending=True).head(1)"
   ]
  },
  {
   "cell_type": "markdown",
   "metadata": {},
   "source": []
  },
  {
   "cell_type": "code",
   "execution_count": 10,
   "metadata": {},
   "outputs": [
    {
     "data": {
      "text/plain": [
       "'MSFT'"
      ]
     },
     "execution_count": 10,
     "metadata": {},
     "output_type": "execute_result"
    }
   ],
   "source": [
    "list(portfolio.bars.keys())[1]"
   ]
  },
  {
   "cell_type": "code",
   "execution_count": null,
   "metadata": {},
   "outputs": [],
   "source": [
    "GMV"
   ]
  },
  {
   "cell_type": "code",
   "execution_count": 12,
   "metadata": {},
   "outputs": [
    {
     "name": "stdout",
     "output_type": "stream",
     "text": [
      "T\n",
      "MSFT\n",
      "AAPL\n"
     ]
    }
   ],
   "source": [
    "weights = {}\n",
    "for index, x in enumerate(list(MSR['weights'])[0]):\n",
    "    print(tickers[index])\n",
    "    weights[tickers[index]] = x"
   ]
  },
  {
   "cell_type": "code",
   "execution_count": 13,
   "metadata": {},
   "outputs": [
    {
     "data": {
      "text/plain": [
       "{'T': 0.6936360833799919,\n",
       " 'MSFT': 0.07333597497070354,\n",
       " 'AAPL': 0.23302794164930452}"
      ]
     },
     "execution_count": 13,
     "metadata": {},
     "output_type": "execute_result"
    }
   ],
   "source": [
    "weights"
   ]
  },
  {
   "cell_type": "code",
   "execution_count": null,
   "metadata": {},
   "outputs": [],
   "source": []
  }
 ],
 "metadata": {
  "interpreter": {
   "hash": "52b36d55c2781758dd9e62f69c8fd815e983b06226efd771af14b25cf241bf32"
  },
  "kernelspec": {
   "display_name": "Python 3.7.9 64-bit (system)",
   "language": "python",
   "name": "python3"
  },
  "language_info": {
   "codemirror_mode": {
    "name": "ipython",
    "version": 3
   },
   "file_extension": ".py",
   "mimetype": "text/x-python",
   "name": "python",
   "nbconvert_exporter": "python",
   "pygments_lexer": "ipython3",
   "version": "3.7.9"
  },
  "orig_nbformat": 4
 },
 "nbformat": 4,
 "nbformat_minor": 2
}
